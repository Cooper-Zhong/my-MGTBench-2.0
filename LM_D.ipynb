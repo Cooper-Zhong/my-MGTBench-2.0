{
 "cells": [
  {
   "cell_type": "code",
   "execution_count": 1,
   "metadata": {},
   "outputs": [],
   "source": [
    "%load_ext autoreload\n",
    "%autoreload 2"
   ]
  },
  {
   "cell_type": "code",
   "execution_count": 2,
   "metadata": {},
   "outputs": [
    {
     "name": "stderr",
     "output_type": "stream",
     "text": [
      "/home/zhiyuan/miniconda3/envs/MGTBench/lib/python3.8/site-packages/tqdm/auto.py:22: TqdmWarning: IProgress not found. Please update jupyter and ipywidgets. See https://ipywidgets.readthedocs.io/en/stable/user_install.html\n",
      "  from .autonotebook import tqdm as notebook_tqdm\n"
     ]
    }
   ],
   "source": [
    "import os\n",
    "os.environ[\"CUDA_DEVICE_ORDER\"]=\"PCI_BUS_ID\"   # see issue #152\n",
    "os.environ[\"CUDA_VISIBLE_DEVICES\"]=\"2\"\n",
    "import torch"
   ]
  },
  {
   "cell_type": "code",
   "execution_count": 3,
   "metadata": {},
   "outputs": [
    {
     "name": "stderr",
     "output_type": "stream",
     "text": [
      "Some weights of DistilBertForSequenceClassification were not initialized from the model checkpoint at /data1/models/distilbert-base-uncased and are newly initialized: ['classifier.bias', 'classifier.weight', 'pre_classifier.bias', 'pre_classifier.weight']\n",
      "You should probably TRAIN this model on a down-stream task to be able to use it for predictions and inference.\n"
     ]
    }
   ],
   "source": [
    "model_name_or_path = '/data1/models/distilbert-base-uncased'\n",
    "from mgtbench import AutoDetector, AutoExperiment\n",
    "from mgtbench.loading.dataloader import load\n",
    "metric1 = AutoDetector.from_detector_name('LM-D', \n",
    "                                            model_name_or_path=model_name_or_path)\n",
    "experiment = AutoExperiment.from_experiment_name('supervised',detector=[metric1])"
   ]
  },
  {
   "cell_type": "code",
   "execution_count": 4,
   "metadata": {},
   "outputs": [
    {
     "name": "stderr",
     "output_type": "stream",
     "text": [
      "parsing data: 100%|██████████| 997/997 [00:00<00:00, 10470.72it/s]\n"
     ]
    }
   ],
   "source": [
    "datatype = 'Essay'\n",
    "llmname = 'ChatGLM'\n",
    "data = load(datatype, llmname)\n",
    "data['train']['text'] = data['train']['text'][:]\n",
    "data['train']['label'] = data['train']['label'][:]\n",
    "data['test']['text'] = data['test']['text'][:]\n",
    "data['test']['label'] = data['test']['label'][:]"
   ]
  },
  {
   "cell_type": "code",
   "execution_count": 5,
   "metadata": {},
   "outputs": [
    {
     "data": {
      "text/plain": [
       "(1596,\n",
       " 'It is important to note that psychopharmacology is a critical field of knowledge and expertise for any independent mental health practitioner. The main reason is the fact that psychopharmacology is a science-based study of medications and drugs on human psychology. It is becoming increasingly necessary for a mental health practitioner to be familiar and knowledgeable about pharmacological aspects of the treatment of mental issues.\\nAs a future independent mental health practitioner, one must be fully equipped with skills and competencies in treating clients’ mental health problems, which is impossible without pharmacological interventions. It is stated that “even though psychiatrists represent the branch of medicine that specializes in psychopharmacology, they are directly responsible for providing only a fraction of professional services to the mentally ill” (Preston et al., 2021, p. 13). In other words, no treatment can be effective if the dedicated specialists are outsourcing the prescription of drugs to non-psychiatric professionals. In order to help clients to overcome stigma about mental disorders and medication, it is important “to bring up the topic in a preemptive way, at the time when the prescription is first written” (Preston et al., 2021, p. 66). In other words, a mental health practitioner needs to help patients weigh the pros and cons in an informed manner. Since non-adherence is a major problem when it comes to medications, one can help clients to comply with the prescriptions by giving “patients (and parents) time to really explore any concerns or worries that they might have about the psychiatric medication being recommended” (Preston et al., 2021, p. 67). Therefore, it is likely that patients will be cautious of drugs, which is why their concerns need to be heard, voiced and evaluated.\\nIn conclusion, psychopharmacology is becoming critically important for an independent mental health practitioner. Medications play a major role in ensuring proper treatment measures. Thus, clients require assistance and informed education about their options.',\n",
       " 0)"
      ]
     },
     "execution_count": 5,
     "metadata": {},
     "output_type": "execute_result"
    }
   ],
   "source": [
    "len(data['train']['text']), data['train']['text'][0], data['train']['label'][0]"
   ]
  },
  {
   "cell_type": "code",
   "execution_count": 6,
   "metadata": {},
   "outputs": [],
   "source": [
    "experiment.load_data(data)"
   ]
  },
  {
   "cell_type": "code",
   "execution_count": 7,
   "metadata": {},
   "outputs": [],
   "source": [
    "config = {'need_finetune': True,\n",
    "          'need_save': False,\n",
    "          'epochs': 1,\n",
    "          'save_path': f'/data1/zzy/finetuned/bert_{datatype}_{llmname}' }"
   ]
  },
  {
   "cell_type": "code",
   "execution_count": 8,
   "metadata": {},
   "outputs": [
    {
     "name": "stdout",
     "output_type": "stream",
     "text": [
      "Calculate result for each data point\n",
      "Running prediction of detector LM-D\n"
     ]
    },
    {
     "name": "stderr",
     "output_type": "stream",
     "text": [
      "/home/zhiyuan/miniconda3/envs/MGTBench/lib/python3.8/site-packages/transformers/optimization.py:429: FutureWarning: This implementation of AdamW is deprecated and will be removed in a future version. Use the PyTorch implementation torch.optim.AdamW instead, or set `no_deprecation_warning=True` to disable this warning\n",
      "  warnings.warn(\n",
      "Fine-tuning: 0 epoch: 100%|██████████| 100/100 [00:08<00:00, 11.93it/s]\n"
     ]
    },
    {
     "name": "stdout",
     "output_type": "stream",
     "text": [
      "Epoch [1/1], Loss: 0.00592301378871564\n",
      "Fine-tune finished\n",
      "Predict training data\n"
     ]
    },
    {
     "name": "stderr",
     "output_type": "stream",
     "text": [
      "100%|██████████| 1596/1596 [00:07<00:00, 206.32it/s]\n"
     ]
    },
    {
     "name": "stdout",
     "output_type": "stream",
     "text": [
      "Predict testing data\n"
     ]
    },
    {
     "name": "stderr",
     "output_type": "stream",
     "text": [
      "100%|██████████| 398/398 [00:01<00:00, 206.02it/s]"
     ]
    },
    {
     "name": "stdout",
     "output_type": "stream",
     "text": [
      "Run classification for results\n"
     ]
    },
    {
     "name": "stderr",
     "output_type": "stream",
     "text": [
      "\n"
     ]
    }
   ],
   "source": [
    "res = experiment.launch(**config)"
   ]
  },
  {
   "cell_type": "code",
   "execution_count": 9,
   "metadata": {},
   "outputs": [
    {
     "data": {
      "text/plain": [
       "(Metric(acc=0.9235588972431078, precision=0.8673913043478261, recall=1.0, f1=0.9289871944121071, auc=0.9800276066105112),\n",
       " Metric(acc=0.9271356783919598, precision=0.8728070175438597, recall=1.0, f1=0.9320843091334895, auc=0.9872225448852302))"
      ]
     },
     "execution_count": 9,
     "metadata": {},
     "output_type": "execute_result"
    }
   ],
   "source": [
    "res[0].train, res[0].test"
   ]
  },
  {
   "cell_type": "code",
   "execution_count": 10,
   "metadata": {},
   "outputs": [],
   "source": [
    "torch.cuda.empty_cache()"
   ]
  },
  {
   "cell_type": "code",
   "execution_count": null,
   "metadata": {},
   "outputs": [],
   "source": []
  }
 ],
 "metadata": {
  "language_info": {
   "name": "python"
  }
 },
 "nbformat": 4,
 "nbformat_minor": 2
}
